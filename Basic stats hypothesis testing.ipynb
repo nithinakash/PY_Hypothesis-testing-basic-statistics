{
 "cells": [
  {
   "cell_type": "markdown",
   "id": "ac034909",
   "metadata": {},
   "source": [
    "### Packages Required"
   ]
  },
  {
   "cell_type": "code",
   "execution_count": 6,
   "id": "b8b18f56",
   "metadata": {},
   "outputs": [],
   "source": [
    "import numpy as np\n",
    "import pandas as pd\n",
    "import matplotlib.pyplot as plt\n",
    "import seaborn as sns\n",
    "\n",
    "%matplotlib inline\n",
    "\n",
    "import scipy.stats as stats"
   ]
  },
  {
   "cell_type": "markdown",
   "id": "6b4aadc0",
   "metadata": {},
   "source": [
    "## 1.The Lending Club is a peer-to-peer lending site where members make loans to each other. The site makes anonymized data on loans and borrowers publicly available"
   ]
  },
  {
   "cell_type": "markdown",
   "id": "6e977250",
   "metadata": {},
   "source": [
    "### Datasets"
   ]
  },
  {
   "cell_type": "code",
   "execution_count": 19,
   "id": "a666dbf0",
   "metadata": {},
   "outputs": [],
   "source": [
    "Loans = pd.read_csv('C:/Users/Nithin/Downloads/Basic Statistics - Hypothesis Testing/Datasets/LoansData.csv')"
   ]
  },
  {
   "cell_type": "markdown",
   "id": "9dfaf360",
   "metadata": {},
   "source": [
    "### Data Preparation"
   ]
  },
  {
   "cell_type": "code",
   "execution_count": 20,
   "id": "be1f3a9e",
   "metadata": {},
   "outputs": [
    {
     "name": "stderr",
     "output_type": "stream",
     "text": [
      "C:\\Users\\Nithin\\AppData\\Local\\Temp/ipykernel_15668/3705713070.py:1: FutureWarning: The default value of regex will change from True to False in a future version. In addition, single character regular expressions will *not* be treated as literal strings when regex=True.\n",
      "  Loans.columns = Loans.columns.str.replace('.','_')\n"
     ]
    }
   ],
   "source": [
    "Loans.columns = Loans.columns.str.replace('.','_')"
   ]
  },
  {
   "cell_type": "code",
   "execution_count": 22,
   "id": "a9078d34",
   "metadata": {},
   "outputs": [],
   "source": [
    "Loans.Interest_Rate = pd.to_numeric(Loans.Interest_Rate.str.replace('%',''))\n",
    "Loans.Loan_Length = pd.to_numeric(Loans.Loan_Length.str.replace(' months',''))"
   ]
  },
  {
   "cell_type": "code",
   "execution_count": null,
   "id": "fa7e4980",
   "metadata": {},
   "outputs": [],
   "source": [
    "Fico = Loans.FICO_Range.str.split('-',expand=True).astype('float64')\n",
    "Fico.columns = ('Low','High')\n",
    "Loans['Fico'] = (Fico.Low + Fico.High)/2"
   ]
  },
  {
   "cell_type": "code",
   "execution_count": 30,
   "id": "1a5e4244",
   "metadata": {},
   "outputs": [],
   "source": [
    "Loans.dropna(inplace=True)"
   ]
  },
  {
   "cell_type": "markdown",
   "id": "6adeac0c",
   "metadata": {},
   "source": [
    "##### a.\tIntrest rate is varied for different loan amounts (Less intrest charged for high loan amounts)"
   ]
  },
  {
   "cell_type": "code",
   "execution_count": null,
   "id": "0d6d869f",
   "metadata": {},
   "outputs": [],
   "source": [
    "#Corelation\n",
    "H0 - Not different\n",
    "Ha - Different\n",
    "\n",
    "CI - 95%\n",
    "P - 0.05\n",
    "\n",
    "#Conc -> Ho Rejected\n",
    "#Higher loan amounts has low interest rate & vice versa"
   ]
  },
  {
   "cell_type": "code",
   "execution_count": 37,
   "id": "49e2ba67",
   "metadata": {},
   "outputs": [
    {
     "data": {
      "text/plain": [
       "(0.3315955311036452, 5.064256950483673e-63)"
      ]
     },
     "execution_count": 37,
     "metadata": {},
     "output_type": "execute_result"
    }
   ],
   "source": [
    "stats.pearsonr(Loans.Interest_Rate,Loans.Amount_Funded_By_Investors)"
   ]
  },
  {
   "cell_type": "markdown",
   "id": "3c65dfbd",
   "metadata": {},
   "source": [
    "##### b.\tLoan length is directly effecting intrest rate."
   ]
  },
  {
   "cell_type": "code",
   "execution_count": null,
   "id": "533d1a51",
   "metadata": {},
   "outputs": [],
   "source": [
    "#Corelation\n",
    "H0 - Independent\n",
    "Ha - dependent\n",
    "\n",
    "CI - 95%\n",
    "P - 0.05\n",
    "\n",
    "#Conc -> Ho Rejected\n",
    "#Both variables are inversely dependent on eachother"
   ]
  },
  {
   "cell_type": "code",
   "execution_count": 45,
   "id": "d1823688",
   "metadata": {},
   "outputs": [
    {
     "data": {
      "text/plain": [
       "(0.42505738230947654, 1.7938010673370282e-106)"
      ]
     },
     "execution_count": 45,
     "metadata": {},
     "output_type": "execute_result"
    }
   ],
   "source": [
    "stats.pearsonr(Loans.Interest_Rate,Loans.Loan_Length)"
   ]
  },
  {
   "cell_type": "markdown",
   "id": "413fb07e",
   "metadata": {},
   "source": [
    "##### c.\tInrest rate varies for different purpose of loans"
   ]
  },
  {
   "cell_type": "code",
   "execution_count": null,
   "id": "c4933ff4",
   "metadata": {},
   "outputs": [],
   "source": [
    "#Annova/f_tes\n",
    "H0 - same\n",
    "Ha - different\n",
    "\n",
    "CI - 95%\n",
    "P - 0.05\n",
    "\n",
    "#Conc -> Ho Rejected\n",
    "#Interest rate different for different loan purpose"
   ]
  },
  {
   "cell_type": "code",
   "execution_count": 61,
   "id": "9310c5ff",
   "metadata": {},
   "outputs": [],
   "source": [
    "s1 = Loans.loc[Loans.Loan_Purpose == 'debt_consolidation','Interest_Rate'].dropna()\n",
    "s2 = Loans.loc[Loans.Loan_Purpose == 'credit_card','Interest_Rate'].dropna()\n",
    "s3 = Loans.loc[Loans.Loan_Purpose == 'other','Interest_Rate'].dropna()\n",
    "s4 = Loans.loc[Loans.Loan_Purpose == 'moving','Interest_Rate'].dropna()\n",
    "s5 = Loans.loc[Loans.Loan_Purpose == 'car','Interest_Rate'].dropna()\n",
    "s6 = Loans.loc[Loans.Loan_Purpose == 'vacation','Interest_Rate'].dropna()\n",
    "s7 = Loans.loc[Loans.Loan_Purpose == 'home_improvement','Interest_Rate'].dropna()\n",
    "s8 = Loans.loc[Loans.Loan_Purpose == 'house','Interest_Rate'].dropna()\n",
    "s9 = Loans.loc[Loans.Loan_Purpose == 'major_purchase','Interest_Rate'].dropna()\n",
    "s10 = Loans.loc[Loans.Loan_Purpose == 'educational','Interest_Rate'].dropna()\n",
    "s11 = Loans.loc[Loans.Loan_Purpose == 'medical','Interest_Rate'].dropna()\n",
    "s12 = Loans.loc[Loans.Loan_Purpose == 'wedding','Interest_Rate'].dropna()\n",
    "s13 = Loans.loc[Loans.Loan_Purpose == 'small_business','Interest_Rate'].dropna()\n",
    "s14 = Loans.loc[Loans.Loan_Purpose == 'small_business','Interest_Rate'].dropna()"
   ]
  },
  {
   "cell_type": "code",
   "execution_count": 62,
   "id": "5041b5a1",
   "metadata": {},
   "outputs": [
    {
     "data": {
      "text/plain": [
       "F_onewayResult(statistic=7.13356625879892, pvalue=8.074920725223914e-14)"
      ]
     },
     "execution_count": 62,
     "metadata": {},
     "output_type": "execute_result"
    }
   ],
   "source": [
    "stats.f_oneway(s1,s2,s3,s4,s5,s6,s7,s8,s9,s10,s11,s12,s13,s14)"
   ]
  },
  {
   "cell_type": "markdown",
   "id": "5fc36258",
   "metadata": {},
   "source": [
    "##### d.\tThere is relationship between FICO scores and Home Ownership. It means that, People with owning home will have high FICO scores."
   ]
  },
  {
   "cell_type": "code",
   "execution_count": null,
   "id": "858c8693",
   "metadata": {},
   "outputs": [],
   "source": [
    "#Annova/f_tes\n",
    "H0 - Relation\n",
    "Ha - No Relation\n",
    "\n",
    "CI - 95%\n",
    "P - 0.05\n",
    "\n",
    "#Conc -> Ho Rejected\n",
    "#No relation between FICO & Home ownership"
   ]
  },
  {
   "cell_type": "code",
   "execution_count": 100,
   "id": "5caf5b4f",
   "metadata": {},
   "outputs": [],
   "source": [
    "s1 = Loans.loc[Loans.Home_Ownership == 'MORTGAGE','Fico']\n",
    "s2 = Loans.loc[Loans.Home_Ownership == 'RENT','Fico']\n",
    "s3 = Loans.loc[Loans.Home_Ownership == 'OWN','Fico']\n",
    "s4 = Loans.loc[Loans.Home_Ownership == 'OTHER','Fico']"
   ]
  },
  {
   "cell_type": "code",
   "execution_count": 101,
   "id": "6cb9ebb5",
   "metadata": {},
   "outputs": [
    {
     "data": {
      "text/plain": [
       "F_onewayResult(statistic=20.65464665222211, pvalue=3.2682005447315283e-13)"
      ]
     },
     "execution_count": 101,
     "metadata": {},
     "output_type": "execute_result"
    }
   ],
   "source": [
    "stats.f_oneway(s1,s2,s3,s4)"
   ]
  },
  {
   "cell_type": "markdown",
   "id": "db94b558",
   "metadata": {},
   "source": [
    "## 2.When an order is placed by a customer of a small manufacturing company, a price quote must be developed for that order. Because each order is unique, quotes must be established on an order-by-order basis by a pricing expert. The price quote process is labor-intensive, as prices depend on many factors such as the part number, customer, geographic location, market, and order volume. The sales department manager is concerned that the pricing process is too complex, and that there might be too much variability in the quoted prices. An improvement team is tasked with studying and improving the pricing process."
   ]
  },
  {
   "cell_type": "markdown",
   "id": "5f6a3853",
   "metadata": {},
   "source": [
    "### Datasets"
   ]
  },
  {
   "cell_type": "code",
   "execution_count": 103,
   "id": "3cc11b1e",
   "metadata": {},
   "outputs": [],
   "source": [
    "prices = pd.read_csv('C:/Users/Nithin/Downloads/Basic Statistics - Hypothesis Testing/Datasets/Price_Quotes.csv')"
   ]
  },
  {
   "cell_type": "markdown",
   "id": "f6695d9f",
   "metadata": {},
   "source": [
    "##### We would like to assess if there is any difference in the average price quotes provided by Mary and Barry."
   ]
  },
  {
   "cell_type": "code",
   "execution_count": null,
   "id": "9ee0979a",
   "metadata": {},
   "outputs": [],
   "source": [
    "#Relational t test\n",
    "H0 - Relation\n",
    "Ha - No Relation\n",
    "\n",
    "CI - 95%\n",
    "P - 0.05\n",
    "\n",
    "#Conc -> Ho Rejected\n",
    "#at 95% CI there is no relation between both the prices"
   ]
  },
  {
   "cell_type": "code",
   "execution_count": 105,
   "id": "998e0078",
   "metadata": {},
   "outputs": [
    {
     "data": {
      "text/plain": [
       "Ttest_relResult(statistic=2.521376510892349, pvalue=0.02840588045242053)"
      ]
     },
     "execution_count": 105,
     "metadata": {},
     "output_type": "execute_result"
    }
   ],
   "source": [
    "stats.ttest_rel(prices.Barry_Price,prices.Mary_Price)"
   ]
  },
  {
   "cell_type": "markdown",
   "id": "4012eac3",
   "metadata": {},
   "source": [
    "## 3.The New Life Residential Treatment Facility is a NGO that treats teenagers who have shown signs of mental illness. It provides housing and supervision of teenagers who are making the transition from psychiatric hospitals back into the community. Because many of the teenagers were severely abused as children and have been involved with the juvenile justice system, behavioral problems are common at New Life. Employee pay is low and staff turnover (attrition) is high"
   ]
  },
  {
   "cell_type": "markdown",
   "id": "866d8622",
   "metadata": {},
   "source": [
    "### Datasets"
   ]
  },
  {
   "cell_type": "code",
   "execution_count": 120,
   "id": "e7b52c31",
   "metadata": {},
   "outputs": [],
   "source": [
    "Treat = pd.read_csv('C:/Users/Nithin/Downloads/Basic Statistics - Hypothesis Testing/Datasets/Treatment_Facility.csv')"
   ]
  },
  {
   "cell_type": "code",
   "execution_count": 121,
   "id": "a6935b4f",
   "metadata": {},
   "outputs": [],
   "source": [
    "Treat.rename(columns=({'VAR4':'TRFF','VAR5':'CI'}),inplace=True)"
   ]
  },
  {
   "cell_type": "markdown",
   "id": "1e327acf",
   "metadata": {},
   "source": [
    "##### Determine what effect, if any, the reengineering effort had on the incidence behavioral problems and staff turnover. i.e To determine if the reengineering effort changed the critical incidence rate. Is there evidence that the critical incidence rate improved?"
   ]
  },
  {
   "cell_type": "code",
   "execution_count": null,
   "id": "40314afe",
   "metadata": {},
   "outputs": [],
   "source": [
    "#Independent t test\n",
    "H0 - Relation\n",
    "Ha - No Relation\n",
    "\n",
    "CI - 95%\n",
    "P - 0.05\n",
    "\n",
    "#Conc -> Ha Rejected\n",
    "#Re engineering effort has increased the CI %"
   ]
  },
  {
   "cell_type": "code",
   "execution_count": 124,
   "id": "c2dba310",
   "metadata": {},
   "outputs": [],
   "source": [
    "s1 = Treat.loc[Treat.Reengineer=='Prior','CI']\n",
    "s2 = Treat.loc[Treat.Reengineer=='Post','CI']"
   ]
  },
  {
   "cell_type": "code",
   "execution_count": 125,
   "id": "371db692",
   "metadata": {},
   "outputs": [
    {
     "data": {
      "text/plain": [
       "Ttest_indResult(statistic=1.6279144253528646, pvalue=0.12091989189884149)"
      ]
     },
     "execution_count": 125,
     "metadata": {},
     "output_type": "execute_result"
    }
   ],
   "source": [
    "stats.ttest_ind(s1,s2)"
   ]
  },
  {
   "cell_type": "markdown",
   "id": "ff4f2119",
   "metadata": {},
   "source": [
    "## 4.Software development projects typically follow six basic phases: Requirements, design, implementation (and integration), testing (validation), deployment (installation) and maintenance. First, general requirements are gathered, and the scope of the functionality is defined. Then, alternative scenarios for the required functionality are developed and evaluated. Implementation, usually 50% or more of the development time, is the phase in which the design is translated into programs and integrated with other parts of the software – this is when software engineers actually develop the code. During the final phases, programs are tested, software is put into use, and faults or performance issues are addressed.\n"
   ]
  },
  {
   "cell_type": "markdown",
   "id": "aaef3b21",
   "metadata": {},
   "source": [
    "### Datasets"
   ]
  },
  {
   "cell_type": "code",
   "execution_count": 127,
   "id": "172334eb",
   "metadata": {},
   "outputs": [],
   "source": [
    "prior = pd.read_csv('C:/Users/Nithin/Downloads/Basic Statistics - Hypothesis Testing/Datasets/Priority_Assessment.csv')"
   ]
  },
  {
   "cell_type": "markdown",
   "id": "37f5ac1f",
   "metadata": {},
   "source": [
    "##### We will focus on the prioritization system. If the system is working, then high priority jobs, on average, should be completed more quickly than medium priority jobs, and medium priority jobs should be completed more quickly than low priority jobs. Use the data provided to determine whether this is, in fact, occurring."
   ]
  },
  {
   "cell_type": "code",
   "execution_count": null,
   "id": "c7cfcc7b",
   "metadata": {},
   "outputs": [],
   "source": [
    "#ANNOVA / F reg\n",
    "H0 - Relation\n",
    "Ha - No Relation\n",
    "\n",
    "CI - 95%\n",
    "P - 0.05\n",
    "\n",
    "#Conc -> Ha Rejected\n",
    "#priority has no relation with completion time"
   ]
  },
  {
   "cell_type": "code",
   "execution_count": 134,
   "id": "f9ae985f",
   "metadata": {},
   "outputs": [],
   "source": [
    "s1 = prior.loc[prior.Priority=='High','Days']\n",
    "s2 = prior.loc[prior.Priority=='Medium','Days']\n",
    "s3 = prior.loc[prior.Priority=='Low','Days']"
   ]
  },
  {
   "cell_type": "code",
   "execution_count": 136,
   "id": "eac64e23",
   "metadata": {},
   "outputs": [
    {
     "data": {
      "text/plain": [
       "F_onewayResult(statistic=1.812311010076072, pvalue=0.16411459461716182)"
      ]
     },
     "execution_count": 136,
     "metadata": {},
     "output_type": "execute_result"
    }
   ],
   "source": [
    "stats.f_oneway(s1,s2,s3)"
   ]
  },
  {
   "cell_type": "markdown",
   "id": "cbb0f277",
   "metadata": {},
   "source": [
    "## 5.Film on the Rocks is a summer movie series held at the world-renowned Red Rocks Amphitheatre, which is situated on a hillside of the Rocky Mountains in Morrison, Colorado fifteen miles west of Denver. The film series features classic films, and pre-show entertainment including bands and comedians. Among the features that have made Red Rocks an internationally-famous concert stage are sweeping views of Denver, outstanding acoustics, and cool, dry Colorado summers."
   ]
  },
  {
   "cell_type": "markdown",
   "id": "1d7d0bbc",
   "metadata": {},
   "source": [
    "### Datasets"
   ]
  },
  {
   "cell_type": "code",
   "execution_count": 206,
   "id": "78d65ad4",
   "metadata": {},
   "outputs": [],
   "source": [
    "Films = pd.read_csv('C:/Users/Nithin/Downloads/Basic Statistics - Hypothesis Testing/Datasets/Films.csv')"
   ]
  },
  {
   "cell_type": "markdown",
   "id": "c5a8e8f4",
   "metadata": {},
   "source": [
    "### Data Preparation"
   ]
  },
  {
   "cell_type": "code",
   "execution_count": 173,
   "id": "3f2e4019",
   "metadata": {},
   "outputs": [],
   "source": [
    "Films.Gender = np.where(Flims.Gender=='Female',2,Flims.Gender)\n",
    "Films.Gender = np.where(Flims.Gender=='Male',1,Flims.Gender)\n",
    "Films.Gender = np.where(Flims.Gender=='1',1,Flims.Gender)\n",
    "Films.Gender = np.where(Flims.Gender=='2',2,Flims.Gender)"
   ]
  },
  {
   "cell_type": "code",
   "execution_count": 208,
   "id": "1d608c3f",
   "metadata": {},
   "outputs": [],
   "source": [
    "Films.Marital_Status = np.where(Flims.Marital_Status=='Married',1,Flims.Marital_Status)\n",
    "Films.Marital_Status = np.where(Flims.Marital_Status=='Single',2,Flims.Marital_Status)\n",
    "Films.Marital_Status = np.where(Flims.Marital_Status=='Slngle',2,Flims.Marital_Status)\n",
    "Films.Marital_Status = np.where(Flims.Marital_Status=='1',1,Flims.Marital_Status)\n",
    "Films.Marital_Status = np.where(Flims.Marital_Status=='2',2,Flims.Marital_Status)\n",
    "Films.Marital_Status.fillna(Films.Marital_Status.mode,inplace=True)"
   ]
  },
  {
   "cell_type": "code",
   "execution_count": 219,
   "id": "5eb20622",
   "metadata": {},
   "outputs": [],
   "source": [
    "Films.Gender = Flims.Gender.astype('float64')\n",
    "Films.Marital_Status = Flims.Marital_Status.astype('float64')"
   ]
  },
  {
   "cell_type": "markdown",
   "id": "e90639d8",
   "metadata": {},
   "source": [
    "##### What is the overall level of customer satisfaction?"
   ]
  },
  {
   "cell_type": "code",
   "execution_count": 175,
   "id": "2696987d",
   "metadata": {},
   "outputs": [],
   "source": [
    "Over_all = pd.DataFrame(Flims.groupby('Overall').Overall.count())\n",
    "Over_all['Percent'] = Over_all.values/Flims.Overall.sum().round(2)"
   ]
  },
  {
   "cell_type": "code",
   "execution_count": 180,
   "id": "833fca9a",
   "metadata": {},
   "outputs": [
    {
     "data": {
      "text/html": [
       "<div>\n",
       "<style scoped>\n",
       "    .dataframe tbody tr th:only-of-type {\n",
       "        vertical-align: middle;\n",
       "    }\n",
       "\n",
       "    .dataframe tbody tr th {\n",
       "        vertical-align: top;\n",
       "    }\n",
       "\n",
       "    .dataframe thead th {\n",
       "        text-align: right;\n",
       "    }\n",
       "</style>\n",
       "<table border=\"1\" class=\"dataframe\">\n",
       "  <thead>\n",
       "    <tr style=\"text-align: right;\">\n",
       "      <th></th>\n",
       "      <th>Overall</th>\n",
       "      <th>Percent</th>\n",
       "    </tr>\n",
       "    <tr>\n",
       "      <th>Overall</th>\n",
       "      <th></th>\n",
       "      <th></th>\n",
       "    </tr>\n",
       "  </thead>\n",
       "  <tbody>\n",
       "    <tr>\n",
       "      <th>1.0</th>\n",
       "      <td>151</td>\n",
       "      <td>0.284369</td>\n",
       "    </tr>\n",
       "    <tr>\n",
       "      <th>2.0</th>\n",
       "      <td>160</td>\n",
       "      <td>0.301318</td>\n",
       "    </tr>\n",
       "    <tr>\n",
       "      <th>3.0</th>\n",
       "      <td>12</td>\n",
       "      <td>0.022599</td>\n",
       "    </tr>\n",
       "    <tr>\n",
       "      <th>4.0</th>\n",
       "      <td>1</td>\n",
       "      <td>0.001883</td>\n",
       "    </tr>\n",
       "    <tr>\n",
       "      <th>5.0</th>\n",
       "      <td>4</td>\n",
       "      <td>0.007533</td>\n",
       "    </tr>\n",
       "  </tbody>\n",
       "</table>\n",
       "</div>"
      ],
      "text/plain": [
       "         Overall   Percent\n",
       "Overall                   \n",
       "1.0          151  0.284369\n",
       "2.0          160  0.301318\n",
       "3.0           12  0.022599\n",
       "4.0            1  0.001883\n",
       "5.0            4  0.007533"
      ]
     },
     "execution_count": 180,
     "metadata": {},
     "output_type": "execute_result"
    }
   ],
   "source": [
    "Over_all\n",
    "\n",
    "#Overall Level 1 & 2 are most customer satisfication"
   ]
  },
  {
   "cell_type": "markdown",
   "id": "7498e551",
   "metadata": {},
   "source": [
    "##### What factors are linked to satisfaction?"
   ]
  },
  {
   "cell_type": "code",
   "execution_count": null,
   "id": "e60defd7",
   "metadata": {},
   "outputs": [],
   "source": [
    "#ANNOVA / F reg\n",
    "H0 - Relation\n",
    "Ha - No Relation\n",
    "\n",
    "CI - 95%\n",
    "P - 0.05\n",
    "\n",
    "#Conc -> H0 Rejected\n",
    "#Parking,Clean,Overall are linked to satisfaction"
   ]
  },
  {
   "cell_type": "code",
   "execution_count": 185,
   "id": "32ed8939",
   "metadata": {},
   "outputs": [],
   "source": [
    "s1 = Flims.Sinage.dropna()\n",
    "s2 = Flims.Parking.dropna()\n",
    "s3 = Flims.Clean.dropna()\n",
    "s4 = Flims.Overall.dropna()"
   ]
  },
  {
   "cell_type": "code",
   "execution_count": 190,
   "id": "8e08a784",
   "metadata": {},
   "outputs": [
    {
     "data": {
      "text/plain": [
       "F_onewayResult(statistic=2.824020764284959, pvalue=0.059849988043050875)"
      ]
     },
     "execution_count": 190,
     "metadata": {},
     "output_type": "execute_result"
    }
   ],
   "source": [
    "stats.f_oneway(s3,s2,s4)"
   ]
  },
  {
   "cell_type": "markdown",
   "id": "315712d7",
   "metadata": {},
   "source": [
    "##### \tWhat is the demographic profile of Film on the Rocks patrons?"
   ]
  },
  {
   "cell_type": "code",
   "execution_count": 223,
   "id": "df5c0ccf",
   "metadata": {},
   "outputs": [
    {
     "data": {
      "text/plain": [
       "Gender\n",
       "2.0    213\n",
       "1.0    117\n",
       "Name: Gender, dtype: int64"
      ]
     },
     "execution_count": 223,
     "metadata": {},
     "output_type": "execute_result"
    }
   ],
   "source": [
    "#Gender\n",
    "\n",
    "Films.groupby('Gender').Gender.count().sort_values(ascending = False)\n",
    "#Females are the majority audience"
   ]
  },
  {
   "cell_type": "code",
   "execution_count": 225,
   "id": "f6ba60bf",
   "metadata": {},
   "outputs": [
    {
     "data": {
      "text/plain": [
       "Marital_Status\n",
       "2.0    228\n",
       "1.0    100\n",
       "Name: Gender, dtype: int64"
      ]
     },
     "execution_count": 225,
     "metadata": {},
     "output_type": "execute_result"
    }
   ],
   "source": [
    "#Marital_Status\n",
    "\n",
    "Films.groupby('Marital_Status').Gender.count().sort_values(ascending = False)\n",
    "#Singles are the majority audience"
   ]
  },
  {
   "cell_type": "code",
   "execution_count": 226,
   "id": "1fbab4bf",
   "metadata": {},
   "outputs": [
    {
     "data": {
      "text/plain": [
       "Age\n",
       "2.0    175\n",
       "3.0    117\n",
       "1.0     26\n",
       "4.0     10\n",
       "Name: Gender, dtype: int64"
      ]
     },
     "execution_count": 226,
     "metadata": {},
     "output_type": "execute_result"
    }
   ],
   "source": [
    "#Age\n",
    "\n",
    "Films.groupby('Age').Gender.count().sort_values(ascending = False)\n",
    "#13 to 30 yrs are the majority audience"
   ]
  },
  {
   "cell_type": "code",
   "execution_count": 230,
   "id": "ee1d8e3a",
   "metadata": {},
   "outputs": [
    {
     "data": {
      "text/plain": [
       "Income\n",
       "1.0    142\n",
       "3.0     90\n",
       "2.0     82\n",
       "Name: Gender, dtype: int64"
      ]
     },
     "execution_count": 230,
     "metadata": {},
     "output_type": "execute_result"
    }
   ],
   "source": [
    "#Income\n",
    "\n",
    "Films.groupby('Income').Gender.count().sort_values(ascending = False)\n",
    "#Less than 50K salary are the majority audience"
   ]
  },
  {
   "cell_type": "markdown",
   "id": "97041c52",
   "metadata": {},
   "source": [
    "##### \tIn what media outlet(s) should the film series be advertised?"
   ]
  },
  {
   "cell_type": "code",
   "execution_count": 232,
   "id": "aa3a5f25",
   "metadata": {},
   "outputs": [
    {
     "data": {
      "text/plain": [
       "Hear_About\n",
       "5    226\n",
       "4     41\n",
       "1     22\n",
       "Name: Hear_About, dtype: int64"
      ]
     },
     "execution_count": 232,
     "metadata": {},
     "output_type": "execute_result"
    }
   ],
   "source": [
    "Films.groupby('Hear_About').Hear_About.count().sort_values(ascending = False).head(3)\n",
    "\n",
    "#Word of Mouth is th most effective mode of communication"
   ]
  }
 ],
 "metadata": {
  "kernelspec": {
   "display_name": "Python 3 (ipykernel)",
   "language": "python",
   "name": "python3"
  },
  "language_info": {
   "codemirror_mode": {
    "name": "ipython",
    "version": 3
   },
   "file_extension": ".py",
   "mimetype": "text/x-python",
   "name": "python",
   "nbconvert_exporter": "python",
   "pygments_lexer": "ipython3",
   "version": "3.9.7"
  }
 },
 "nbformat": 4,
 "nbformat_minor": 5
}
